{
 "cells": [
  {
   "cell_type": "code",
   "execution_count": 206,
   "metadata": {},
   "outputs": [],
   "source": [
    "import pandas as pd \n",
    "import cv2\n",
    "import tensorflow as tf\n",
    "import keras\n",
    "from keras.datasets import mnist\n",
    "from keras.layers import  Dense, Input\n",
    "from keras.layers import Conv2D, Flatten\n",
    "from keras.layers import Reshape, Conv2DTranspose,Dropout,Activation\n",
    "from keras.models import Model\n",
    "from keras.models import load_model\n",
    "\n",
    "import numpy as np\n",
    "import matplotlib.pyplot as plt\n",
    "from keras.utils import np_utils\n"
   ]
  },
  {
   "cell_type": "code",
   "execution_count": 185,
   "metadata": {},
   "outputs": [],
   "source": [
    "(x_train, y_train), (x_test, y_test) = mnist.load_data()"
   ]
  },
  {
   "cell_type": "code",
   "execution_count": 186,
   "metadata": {},
   "outputs": [],
   "source": [
    "image_size = x_train.shape[1]\n",
    "#changing dim by adding dim for channel\n",
    "x_train = np.reshape(x_train, [-1, image_size, image_size, 1])\n",
    "x_test = np.reshape(x_test, [-1, image_size, image_size, 1])\n",
    "\n",
    "# normalizing image \n",
    "x_train = x_train.astype('float32') / 255\n",
    "x_test = x_test.astype('float32') / 255\n",
    "\n",
    "# Adding Gaussion Noise \n",
    "noise = np.random.normal(loc=0, scale=0.5, size=x_train.shape)\n",
    "x_train_noisy = x_train + noise\n",
    "noise = np.random.normal(loc=0, scale=0.5, size=x_test.shape)\n",
    "x_test_noisy = x_test + noise\n",
    "\n",
    "x_train_noisy = np.clip(x_train_noisy, 0., 1.)\n",
    "x_test_noisy = np.clip(x_test_noisy, 0., 1.)"
   ]
  },
  {
   "cell_type": "markdown",
   "metadata": {},
   "source": [
    "# before adding noise"
   ]
  },
  {
   "cell_type": "code",
   "execution_count": 187,
   "metadata": {},
   "outputs": [
    {
     "data": {
      "text/plain": [
       "<matplotlib.image.AxesImage at 0x1bdd29d5b08>"
      ]
     },
     "execution_count": 187,
     "metadata": {},
     "output_type": "execute_result"
    },
    {
     "data": {
      "image/png": "[encoded data removed]",
      "text/plain": [
       "<Figure size 432x288 with 1 Axes>"
      ]
     },
     "metadata": {
      "needs_background": "light"
     },
     "output_type": "display_data"
    }
   ],
   "source": [
    "plt.imshow(np.squeeze(x_train)[0],cmap=\"gray\")"
   ]
  },
  {
   "cell_type": "markdown",
   "metadata": {},
   "source": [
    "# After adding Noise"
   ]
  },
  {
   "cell_type": "code",
   "execution_count": 188,
   "metadata": {},
   "outputs": [
    {
     "data": {
      "text/plain": [
       "<matplotlib.image.AxesImage at 0x1bd9ac9e708>"
      ]
     },
     "execution_count": 188,
     "metadata": {},
     "output_type": "execute_result"
    },
    {
     "data": {
      "image/png": "[encoded data removed]",
      "text/plain": [
       "<Figure size 432x288 with 1 Axes>"
      ]
     },
     "metadata": {
      "needs_background": "light"
     },
     "output_type": "display_data"
    }
   ],
   "source": [
    "plt.imshow(np.squeeze(x_train_noisy)[0], cmap=\"gray\")"
   ]
  },
  {
   "cell_type": "code",
   "execution_count": 189,
   "metadata": {},
   "outputs": [],
   "source": [
    "size=x_train.shape[1]"
   ]
  },
  {
   "cell_type": "code",
   "execution_count": 190,
   "metadata": {},
   "outputs": [],
   "source": [
    "input_shape = (size,size,1)\n"
   ]
  },
  {
   "cell_type": "markdown",
   "metadata": {},
   "source": [
    "# Autoencoder"
   ]
  },
  {
   "cell_type": "code",
   "execution_count": 207,
   "metadata": {},
   "outputs": [],
   "source": [
    "#pre trained autoencoder model\n",
    "\n",
    "#autoencoder=load_model('trained_autoencoder')  \n",
    "#autoencoder.summary()"
   ]
  },
  {
   "cell_type": "code",
   "execution_count": 196,
   "metadata": {},
   "outputs": [
    {
     "name": "stdout",
     "output_type": "stream",
     "text": [
      "Model: \"autoencoder\"\n",
      "_________________________________________________________________\n",
      "Layer (type)                 Output Shape              Param #   \n",
      "=================================================================\n",
      "input_6 (InputLayer)         (None, 28, 28, 1)         0         \n",
      "_________________________________________________________________\n",
      "conv2d_24 (Conv2D)           (None, 14, 14, 16)        160       \n",
      "_________________________________________________________________\n",
      "conv2d_25 (Conv2D)           (None, 7, 7, 32)          4640      \n",
      "_________________________________________________________________\n",
      "flatten_22 (Flatten)         (None, 1568)              0         \n",
      "_________________________________________________________________\n",
      "dense_44 (Dense)             (None, 16)                25104     \n",
      "_________________________________________________________________\n",
      "dense_45 (Dense)             (None, 1568)              26656     \n",
      "_________________________________________________________________\n",
      "reshape_12 (Reshape)         (None, 7, 7, 32)          0         \n",
      "_________________________________________________________________\n",
      "conv2d_transpose_31 (Conv2DT (None, 14, 14, 32)        9248      \n",
      "_________________________________________________________________\n",
      "conv2d_transpose_32 (Conv2DT (None, 28, 28, 16)        4624      \n",
      "_________________________________________________________________\n",
      "conv2d_transpose_33 (Conv2DT (None, 28, 28, 1)         145       \n",
      "_________________________________________________________________\n",
      "decoder_output (Activation)  (None, 28, 28, 1)         0         \n",
      "=================================================================\n",
      "Total params: 70,577\n",
      "Trainable params: 70,577\n",
      "Non-trainable params: 0\n",
      "_________________________________________________________________\n"
     ]
    }
   ],
   "source": [
    "\n",
    "\n",
    "inputs = Input(shape=input_shape)\n",
    "x = inputs\n",
    "x = Conv2D(filters=16,kernel_size=3,strides=2,activation='relu',padding='same')(x)\n",
    "x = Conv2D(filters=32,kernel_size=3,strides=2,activation='relu',padding='same')(x)\n",
    "x = Flatten()(x)\n",
    "x = Dense(16)(x)\n",
    "x = Dense(1568)(x)\n",
    "x = Reshape((7,7,32))(x)\n",
    "x = Conv2DTranspose(filters=32,kernel_size=3,strides=2,activation='relu',padding='same')(x)\n",
    "x = Conv2DTranspose(filters=16,kernel_size=3,strides=2,activation='relu',padding='same')(x)\n",
    "x = Conv2DTranspose(filters=1,kernel_size=kernel_size,padding='same')(x)\n",
    "outputs = Activation('sigmoid', name='decoder_output')(x)\n",
    "\n",
    "autoencoder = Model(inputs, outputs, name='autoencoder')\n",
    "\n",
    "autoencoder.summary()\n",
    "\n",
    "autoencoder.compile(loss='mse', optimizer='adam',metrics=['accuracy'])\n",
    "\n"
   ]
  },
  {
   "cell_type": "code",
   "execution_count": null,
   "metadata": {},
   "outputs": [],
   "source": []
  },
  {
   "cell_type": "code",
   "execution_count": 197,
   "metadata": {},
   "outputs": [
    {
     "name": "stdout",
     "output_type": "stream",
     "text": [
      "Train on 60000 samples, validate on 10000 samples\n",
      "Epoch 1/20\n",
      "60000/60000 [==============================] - 59s 985us/step - loss: 0.0664 - accuracy: 0.8026 - val_loss: 0.0350 - val_accuracy: 0.7993\n",
      "Epoch 2/20\n",
      "60000/60000 [==============================] - 59s 975us/step - loss: 0.0266 - accuracy: 0.8061 - val_loss: 0.0221 - val_accuracy: 0.8077\n",
      "Epoch 3/20\n",
      "60000/60000 [==============================] - 59s 979us/step - loss: 0.0211 - accuracy: 0.8091 - val_loss: 0.0196 - val_accuracy: 0.8094\n",
      "Epoch 4/20\n",
      "60000/60000 [==============================] - 59s 977us/step - loss: 0.0191 - accuracy: 0.8101 - val_loss: 0.0181 - val_accuracy: 0.8097\n",
      "Epoch 5/20\n",
      "60000/60000 [==============================] - 58s 973us/step - loss: 0.0180 - accuracy: 0.8107 - val_loss: 0.0173 - val_accuracy: 0.8097\n",
      "Epoch 6/20\n",
      "60000/60000 [==============================] - 59s 979us/step - loss: 0.0172 - accuracy: 0.8110 - val_loss: 0.0168 - val_accuracy: 0.8105\n",
      "Epoch 7/20\n",
      "60000/60000 [==============================] - 59s 977us/step - loss: 0.0167 - accuracy: 0.8112 - val_loss: 0.0165 - val_accuracy: 0.8109\n",
      "Epoch 8/20\n",
      "60000/60000 [==============================] - 59s 977us/step - loss: 0.0163 - accuracy: 0.8114 - val_loss: 0.0161 - val_accuracy: 0.8105\n",
      "Epoch 9/20\n",
      "60000/60000 [==============================] - 58s 972us/step - loss: 0.0160 - accuracy: 0.8115 - val_loss: 0.0158 - val_accuracy: 0.8106\n",
      "Epoch 10/20\n",
      "60000/60000 [==============================] - 58s 974us/step - loss: 0.0158 - accuracy: 0.8116 - val_loss: 0.0157 - val_accuracy: 0.8107\n",
      "Epoch 11/20\n",
      "60000/60000 [==============================] - 58s 971us/step - loss: 0.0156 - accuracy: 0.8117 - val_loss: 0.0156 - val_accuracy: 0.8107\n",
      "Epoch 12/20\n",
      "60000/60000 [==============================] - 59s 982us/step - loss: 0.0154 - accuracy: 0.8118 - val_loss: 0.0154 - val_accuracy: 0.8111\n",
      "Epoch 13/20\n",
      "60000/60000 [==============================] - 58s 963us/step - loss: 0.0153 - accuracy: 0.8118 - val_loss: 0.0153 - val_accuracy: 0.8110\n",
      "Epoch 14/20\n",
      "60000/60000 [==============================] - 58s 967us/step - loss: 0.0152 - accuracy: 0.8119 - val_loss: 0.0152 - val_accuracy: 0.8110\n",
      "Epoch 15/20\n",
      "60000/60000 [==============================] - 58s 965us/step - loss: 0.0150 - accuracy: 0.8119 - val_loss: 0.0152 - val_accuracy: 0.8109\n",
      "Epoch 16/20\n",
      "60000/60000 [==============================] - 58s 966us/step - loss: 0.0149 - accuracy: 0.8120 - val_loss: 0.0151 - val_accuracy: 0.8110\n",
      "Epoch 17/20\n",
      "60000/60000 [==============================] - 58s 964us/step - loss: 0.0149 - accuracy: 0.8120 - val_loss: 0.0151 - val_accuracy: 0.8111\n",
      "Epoch 18/20\n",
      "60000/60000 [==============================] - 58s 961us/step - loss: 0.0148 - accuracy: 0.8121 - val_loss: 0.0150 - val_accuracy: 0.8107\n",
      "Epoch 19/20\n",
      "60000/60000 [==============================] - 58s 967us/step - loss: 0.0147 - accuracy: 0.8121 - val_loss: 0.0150 - val_accuracy: 0.8108\n",
      "Epoch 20/20\n",
      "60000/60000 [==============================] - 58s 968us/step - loss: 0.0146 - accuracy: 0.8121 - val_loss: 0.0149 - val_accuracy: 0.8112\n"
     ]
    }
   ],
   "source": [
    "\n",
    "# Train the autoencoder\n",
    "history=autoencoder.fit(x_train_noisy,x_train,validation_data=(x_test_noisy, x_test),epochs=20,batch_size=128)\n",
    "\n"
   ]
  },
  {
   "cell_type": "code",
   "execution_count": 198,
   "metadata": {},
   "outputs": [
    {
     "data": {
      "image/png": "[encoded data removed]",
      "text/plain": [
       "<Figure size 432x288 with 1 Axes>"
      ]
     },
     "metadata": {
      "needs_background": "light"
     },
     "output_type": "display_data"
    },
    {
     "data": {
      "image/png": "[encoded data removed]",
      "text/plain": [
       "<Figure size 432x288 with 1 Axes>"
      ]
     },
     "metadata": {
      "needs_background": "light"
     },
     "output_type": "display_data"
    }
   ],
   "source": [
    "plt.plot(history.history['accuracy'])\n",
    "plt.plot(history.history['val_accuracy'])\n",
    "plt.title('model accuracy')\n",
    "plt.ylabel('accuracy')\n",
    "plt.xlabel('epoch')\n",
    "plt.legend(['train', 'test'], loc='upper left')\n",
    "plt.show()\n",
    "# summarize history for loss\n",
    "plt.plot(history.history['loss'])\n",
    "plt.plot(history.history['val_loss'])\n",
    "plt.title('model loss')\n",
    "plt.ylabel('loss')\n",
    "plt.xlabel('epoch')\n",
    "plt.legend(['train', 'test'], loc='upper left')\n",
    "\n",
    "plt.show()"
   ]
  },
  {
   "cell_type": "markdown",
   "metadata": {},
   "source": [
    "# saving autoencoder"
   ]
  },
  {
   "cell_type": "code",
   "execution_count": 204,
   "metadata": {},
   "outputs": [],
   "source": [
    "#autoencoder.save('trained_autoencoder')"
   ]
  },
  {
   "cell_type": "code",
   "execution_count": 199,
   "metadata": {},
   "outputs": [],
   "source": [
    "x_train_denoise= autoencoder.predict(x_train_noisy)\n",
    "x_test_denoise= autoencoder.predict(x_test_noisy)\n"
   ]
  },
  {
   "cell_type": "code",
   "execution_count": 174,
   "metadata": {},
   "outputs": [],
   "source": []
  },
  {
   "cell_type": "code",
   "execution_count": null,
   "metadata": {},
   "outputs": [],
   "source": []
  },
  {
   "cell_type": "markdown",
   "metadata": {},
   "source": [
    "# After Denoising"
   ]
  },
  {
   "cell_type": "code",
   "execution_count": 200,
   "metadata": {},
   "outputs": [
    {
     "data": {
      "text/plain": [
       "<matplotlib.image.AxesImage at 0x1bdb2249308>"
      ]
     },
     "execution_count": 200,
     "metadata": {},
     "output_type": "execute_result"
    },
    {
     "data": {
      "image/png": "[encoded data removed]",
      "text/plain": [
       "<Figure size 432x288 with 1 Axes>"
      ]
     },
     "metadata": {
      "needs_background": "light"
     },
     "output_type": "display_data"
    },
    {
     "data": {
      "image/png": "[encoded data removed]",
      "text/plain": [
       "<Figure size 432x288 with 1 Axes>"
      ]
     },
     "metadata": {
      "needs_background": "light"
     },
     "output_type": "display_data"
    },
    {
     "data": {
      "image/png": "[encoded data removed]",
      "text/plain": [
       "<Figure size 432x288 with 1 Axes>"
      ]
     },
     "metadata": {
      "needs_background": "light"
     },
     "output_type": "display_data"
    }
   ],
   "source": [
    "plt.imshow(np.squeeze(x_train)[0],cmap=\"gray\")\n",
    "plt.figure()\n",
    "plt.imshow(np.squeeze(x_train_noisy)[0], cmap=\"gray\")\n",
    "plt.figure()\n",
    "plt.imshow(np.squeeze(x_train_denoise)[0], cmap=\"gray\")"
   ]
  },
  {
   "cell_type": "code",
   "execution_count": 201,
   "metadata": {},
   "outputs": [],
   "source": [
    "n_classes = 10\n",
    "Y_train = np_utils.to_categorical(y_train, n_classes)\n",
    "Y_test = np_utils.to_categorical(y_test, n_classes)\n"
   ]
  },
  {
   "cell_type": "markdown",
   "metadata": {},
   "source": [
    "# classifier by using autoencoder"
   ]
  },
  {
   "cell_type": "code",
   "execution_count": null,
   "metadata": {},
   "outputs": [],
   "source": [
    "#pretrained classifier Model\n",
    "\n",
    "#classifier=load_model('trained_classifier')\n",
    "#classifier.summary()"
   ]
  },
  {
   "cell_type": "code",
   "execution_count": null,
   "metadata": {},
   "outputs": [],
   "source": [
    "\n",
    "#fixing the values of layers by making them untrainable \n",
    "for l in autoencoder.layers:\n",
    "     l.trainable=False"
   ]
  },
  {
   "cell_type": "code",
   "execution_count": 178,
   "metadata": {},
   "outputs": [],
   "source": [
    "\n",
    "x=autoencoder.output\n",
    "x = Flatten()(x)\n",
    "x=Dense(512,activation='relu')(x)\n",
    "x=Dropout(.2)(x)\n",
    "x=Dense(512,activation='relu')(x)\n",
    "x=Dropout(.2)(x)\n",
    "outputs=Dense(10,activation='softmax')(x)\n",
    "\n",
    "classifier = Model(autoencoder.input, outputs, name='classifier')\n",
    "classifier.compile(loss='categorical_crossentropy', metrics=['accuracy'], optimizer='adam')"
   ]
  },
  {
   "cell_type": "code",
   "execution_count": 179,
   "metadata": {},
   "outputs": [
    {
     "name": "stdout",
     "output_type": "stream",
     "text": [
      "Model: \"classifier\"\n",
      "_________________________________________________________________\n",
      "Layer (type)                 Output Shape              Param #   \n",
      "=================================================================\n",
      "autoencoder (InputLayer)     (None, 28, 28, 1)         0         \n",
      "_________________________________________________________________\n",
      "conv2d_18 (Conv2D)           (None, 14, 14, 16)        160       \n",
      "_________________________________________________________________\n",
      "conv2d_19 (Conv2D)           (None, 7, 7, 32)          4640      \n",
      "_________________________________________________________________\n",
      "flatten_9 (Flatten)          (None, 1568)              0         \n",
      "_________________________________________________________________\n",
      "dense_14 (Dense)             (None, 16)                25104     \n",
      "_________________________________________________________________\n",
      "dense_15 (Dense)             (None, 1568)              26656     \n",
      "_________________________________________________________________\n",
      "reshape_9 (Reshape)          (None, 7, 7, 32)          0         \n",
      "_________________________________________________________________\n",
      "conv2d_transpose_25 (Conv2DT (None, 14, 14, 32)        9248      \n",
      "_________________________________________________________________\n",
      "conv2d_transpose_26 (Conv2DT (None, 28, 28, 16)        4624      \n",
      "_________________________________________________________________\n",
      "conv2d_transpose_27 (Conv2DT (None, 28, 28, 1)         145       \n",
      "_________________________________________________________________\n",
      "decoder_output (Activation)  (None, 28, 28, 1)         0         \n",
      "_________________________________________________________________\n",
      "flatten_19 (Flatten)         (None, 784)               0         \n",
      "_________________________________________________________________\n",
      "dense_37 (Dense)             (None, 512)               401920    \n",
      "_________________________________________________________________\n",
      "dropout_9 (Dropout)          (None, 512)               0         \n",
      "_________________________________________________________________\n",
      "dense_38 (Dense)             (None, 512)               262656    \n",
      "_________________________________________________________________\n",
      "dropout_10 (Dropout)         (None, 512)               0         \n",
      "_________________________________________________________________\n",
      "dense_39 (Dense)             (None, 10)                5130      \n",
      "=================================================================\n",
      "Total params: 740,283\n",
      "Trainable params: 669,706\n",
      "Non-trainable params: 70,577\n",
      "_________________________________________________________________\n"
     ]
    }
   ],
   "source": [
    "classifier.summary()"
   ]
  },
  {
   "cell_type": "code",
   "execution_count": 182,
   "metadata": {},
   "outputs": [
    {
     "name": "stdout",
     "output_type": "stream",
     "text": [
      "Train on 60000 samples, validate on 10000 samples\n",
      "Epoch 1/20\n",
      "60000/60000 [==============================] - 40s 660us/step - loss: 0.1437 - accuracy: 0.9529 - val_loss: 0.1607 - val_accuracy: 0.9496\n",
      "Epoch 2/20\n",
      "60000/60000 [==============================] - 39s 648us/step - loss: 0.1313 - accuracy: 0.9565 - val_loss: 0.1645 - val_accuracy: 0.9487\n",
      "Epoch 3/20\n",
      "60000/60000 [==============================] - 39s 651us/step - loss: 0.1220 - accuracy: 0.9588 - val_loss: 0.1670 - val_accuracy: 0.9490\n",
      "Epoch 4/20\n",
      "60000/60000 [==============================] - 39s 649us/step - loss: 0.1142 - accuracy: 0.9623 - val_loss: 0.1574 - val_accuracy: 0.9509\n",
      "Epoch 5/20\n",
      "60000/60000 [==============================] - 39s 646us/step - loss: 0.1062 - accuracy: 0.9644 - val_loss: 0.1613 - val_accuracy: 0.9518\n",
      "Epoch 6/20\n",
      "60000/60000 [==============================] - 39s 651us/step - loss: 0.1022 - accuracy: 0.9649 - val_loss: 0.1637 - val_accuracy: 0.9523\n",
      "Epoch 7/20\n",
      "60000/60000 [==============================] - 39s 649us/step - loss: 0.0983 - accuracy: 0.9667 - val_loss: 0.1560 - val_accuracy: 0.9526\n",
      "Epoch 8/20\n",
      "60000/60000 [==============================] - 39s 647us/step - loss: 0.0915 - accuracy: 0.9682 - val_loss: 0.1644 - val_accuracy: 0.9529\n",
      "Epoch 9/20\n",
      "60000/60000 [==============================] - 39s 654us/step - loss: 0.0890 - accuracy: 0.9697 - val_loss: 0.1604 - val_accuracy: 0.9546\n",
      "Epoch 10/20\n",
      "60000/60000 [==============================] - 39s 658us/step - loss: 0.0823 - accuracy: 0.9718 - val_loss: 0.1625 - val_accuracy: 0.9536\n",
      "Epoch 11/20\n",
      "60000/60000 [==============================] - 39s 651us/step - loss: 0.0792 - accuracy: 0.9722 - val_loss: 0.1797 - val_accuracy: 0.9509\n",
      "Epoch 12/20\n",
      "60000/60000 [==============================] - 39s 651us/step - loss: 0.0768 - accuracy: 0.9727 - val_loss: 0.1737 - val_accuracy: 0.9513\n",
      "Epoch 13/20\n",
      "60000/60000 [==============================] - 39s 651us/step - loss: 0.0727 - accuracy: 0.9741 - val_loss: 0.1756 - val_accuracy: 0.9519\n",
      "Epoch 14/20\n",
      "60000/60000 [==============================] - 39s 655us/step - loss: 0.0703 - accuracy: 0.9750 - val_loss: 0.1843 - val_accuracy: 0.9505\n",
      "Epoch 15/20\n",
      "60000/60000 [==============================] - 39s 648us/step - loss: 0.0653 - accuracy: 0.9767 - val_loss: 0.1941 - val_accuracy: 0.9498\n",
      "Epoch 16/20\n",
      "60000/60000 [==============================] - 40s 665us/step - loss: 0.0632 - accuracy: 0.9777 - val_loss: 0.1931 - val_accuracy: 0.9516\n",
      "Epoch 17/20\n",
      "60000/60000 [==============================] - 39s 648us/step - loss: 0.0631 - accuracy: 0.9776 - val_loss: 0.1890 - val_accuracy: 0.9526\n",
      "Epoch 18/20\n",
      "60000/60000 [==============================] - 37s 625us/step - loss: 0.0608 - accuracy: 0.9790 - val_loss: 0.1866 - val_accuracy: 0.9548\n",
      "Epoch 19/20\n",
      "60000/60000 [==============================] - 38s 630us/step - loss: 0.0597 - accuracy: 0.9790 - val_loss: 0.1950 - val_accuracy: 0.9516\n",
      "Epoch 20/20\n",
      "60000/60000 [==============================] - 39s 656us/step - loss: 0.0560 - accuracy: 0.9798 - val_loss: 0.1881 - val_accuracy: 0.9515\n"
     ]
    }
   ],
   "source": [
    "# training Classifier\n",
    "h=classifier.fit(x_train_noisy,Y_train,validation_data=(x_test_noisy, Y_test),epochs=20,batch_size=128)"
   ]
  },
  {
   "cell_type": "code",
   "execution_count": 202,
   "metadata": {},
   "outputs": [
    {
     "data": {
      "image/png": "[encoded data removed]",
      "text/plain": [
       "<Figure size 432x288 with 1 Axes>"
      ]
     },
     "metadata": {
      "needs_background": "light"
     },
     "output_type": "display_data"
    },
    {
     "data": {
      "image/png": "[encoded data removed]",
      "text/plain": [
       "<Figure size 432x288 with 1 Axes>"
      ]
     },
     "metadata": {
      "needs_background": "light"
     },
     "output_type": "display_data"
    }
   ],
   "source": [
    "plt.plot(h.history['accuracy'])\n",
    "plt.plot(h.history['val_accuracy'])\n",
    "plt.title('model accuracy')\n",
    "plt.ylabel('accuracy')\n",
    "plt.xlabel('epoch')\n",
    "plt.legend(['train', 'test'], loc='upper left')\n",
    "plt.show()\n",
    "plt.plot(h.history['loss'])\n",
    "plt.plot(h.history['val_loss'])\n",
    "plt.title('model loss')\n",
    "plt.ylabel('loss')\n",
    "plt.xlabel('epoch')\n",
    "plt.legend(['train', 'test'], loc='upper left')\n",
    "plt.show()"
   ]
  },
  {
   "cell_type": "markdown",
   "metadata": {},
   "source": [
    "# Saving classifier model"
   ]
  },
  {
   "cell_type": "code",
   "execution_count": 203,
   "metadata": {},
   "outputs": [],
   "source": [
    "# classifier.save(\"trained_classifier\")"
   ]
  },
  {
   "cell_type": "code",
   "execution_count": null,
   "metadata": {},
   "outputs": [],
   "source": []
  }
 ],
 "metadata": {
  "kernelspec": {
   "display_name": "Python 3",
   "language": "python",
   "name": "python3"
  },
  "language_info": {
   "codemirror_mode": {
    "name": "ipython",
    "version": 3
   },
   "file_extension": ".py",
   "mimetype": "text/x-python",
   "name": "python",
   "nbconvert_exporter": "python",
   "pygments_lexer": "ipython3",
   "version": "3.7.4"
  }
 },
 "nbformat": 4,
 "nbformat_minor": 4
}
